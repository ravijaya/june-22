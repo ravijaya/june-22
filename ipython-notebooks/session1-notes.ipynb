{
 "cells": [
  {
   "cell_type": "code",
   "execution_count": null,
   "metadata": {
    "collapsed": true
   },
   "outputs": [],
   "source": [
    "from functools import "
   ]
  },
  {
   "cell_type": "code",
   "execution_count": 21,
   "metadata": {},
   "outputs": [],
   "source": [
    "#help(str)"
   ]
  },
  {
   "cell_type": "code",
   "execution_count": 22,
   "metadata": {},
   "outputs": [],
   "source": [
    "#print(dir(__builtins__))"
   ]
  },
  {
   "cell_type": "code",
   "execution_count": 5,
   "metadata": {},
   "outputs": [
    {
     "name": "stdout",
     "output_type": "stream",
     "text": [
      "15\n",
      "<class 'int'>\n"
     ]
    }
   ],
   "source": [
    "n = 15\n",
    "print(n)\n",
    "print(type(n))"
   ]
  },
  {
   "cell_type": "code",
   "execution_count": 6,
   "metadata": {},
   "outputs": [
    {
     "name": "stdout",
     "output_type": "stream",
     "text": [
      "15\n",
      "15\n",
      "15\n",
      "15\n"
     ]
    }
   ],
   "source": [
    "# diff repr.\n",
    "print(0b1111)\n",
    "print(0o17)\n",
    "print(0xf)\n",
    "print(15)"
   ]
  },
  {
   "cell_type": "code",
   "execution_count": 7,
   "metadata": {},
   "outputs": [
    {
     "name": "stdout",
     "output_type": "stream",
     "text": [
      "0b1111\n",
      "0xf\n",
      "0o17\n"
     ]
    }
   ],
   "source": [
    "n = 15\n",
    "print(bin(n))\n",
    "print(hex(n))\n",
    "print(oct(n))"
   ]
  },
  {
   "cell_type": "code",
   "execution_count": 10,
   "metadata": {},
   "outputs": [
    {
     "name": "stdout",
     "output_type": "stream",
     "text": [
      "15\n",
      "15\n",
      "15\n"
     ]
    }
   ],
   "source": [
    "print(int('f', 16))\n",
    "print(int('1111', 2))\n",
    "print(int('17', 8))"
   ]
  },
  {
   "cell_type": "code",
   "execution_count": 11,
   "metadata": {},
   "outputs": [
    {
     "data": {
      "text/plain": [
       "2.5"
      ]
     },
     "execution_count": 11,
     "metadata": {},
     "output_type": "execute_result"
    }
   ],
   "source": [
    "5 / 2 "
   ]
  },
  {
   "cell_type": "code",
   "execution_count": 13,
   "metadata": {},
   "outputs": [
    {
     "name": "stdout",
     "output_type": "stream",
     "text": [
      "0.003\n",
      "0.003\n",
      "0.003\n"
     ]
    }
   ],
   "source": [
    "# float\n",
    "print(0.003)\n",
    "print(3e-3)\n",
    "print(3E-3)"
   ]
  },
  {
   "cell_type": "code",
   "execution_count": 14,
   "metadata": {},
   "outputs": [
    {
     "name": "stdout",
     "output_type": "stream",
     "text": [
      "(4+3j)\n",
      "<class 'complex'>\n"
     ]
    }
   ],
   "source": [
    "# complex\n",
    "n = 4+3j\n",
    "print(n)\n",
    "print(type(n))"
   ]
  },
  {
   "cell_type": "code",
   "execution_count": 17,
   "metadata": {},
   "outputs": [
    {
     "name": "stdout",
     "output_type": "stream",
     "text": [
      "4.0\n",
      "3.0\n",
      "(4-3j)\n",
      "(25+0j)\n"
     ]
    }
   ],
   "source": [
    "n = 4+3j\n",
    "print(n.real)\n",
    "print(n.imag)\n",
    "print(n.conjugate())\n",
    "print(n.conjugate() * n)"
   ]
  },
  {
   "cell_type": "code",
   "execution_count": 18,
   "metadata": {},
   "outputs": [
    {
     "data": {
      "text/plain": [
       "1523004533.9197567"
      ]
     },
     "execution_count": 18,
     "metadata": {},
     "output_type": "execute_result"
    }
   ],
   "source": [
    "import time \n",
    "time.time()\n"
   ]
  },
  {
   "cell_type": "code",
   "execution_count": 19,
   "metadata": {},
   "outputs": [
    {
     "data": {
      "text/plain": [
       "'Fri Apr  6 14:19:17 2018'"
      ]
     },
     "execution_count": 19,
     "metadata": {},
     "output_type": "execute_result"
    }
   ],
   "source": [
    "time.ctime()"
   ]
  },
  {
   "cell_type": "code",
   "execution_count": 25,
   "metadata": {},
   "outputs": [
    {
     "name": "stdout",
     "output_type": "stream",
     "text": [
      "(36.0, 78.0)\n"
     ]
    }
   ],
   "source": [
    "from datetime import datetime\n",
    "\n",
    "dob = datetime(1982, 1, 17, 16, 15)\n",
    "diff = datetime.now() - dob \n",
    "print(divmod(diff.days, 365.25))"
   ]
  },
  {
   "cell_type": "code",
   "execution_count": null,
   "metadata": {
    "collapsed": true
   },
   "outputs": [],
   "source": [
    "dob = datetime"
   ]
  },
  {
   "cell_type": "code",
   "execution_count": 26,
   "metadata": {
    "collapsed": true
   },
   "outputs": [],
   "source": [
    "# string \n",
    "#  a. regular / unicode \n",
    "#  b. raw string\n",
    "#  c. doc string \n",
    "#  d. byte string   * "
   ]
  },
  {
   "cell_type": "code",
   "execution_count": 27,
   "metadata": {},
   "outputs": [
    {
     "name": "stdout",
     "output_type": "stream",
     "text": [
      "c:\templates\f",
      "older99\blames\r",
      "ules\temp.txt\n"
     ]
    }
   ],
   "source": [
    "file_path = 'c:\\templates\\folder99\\blames\\rules\\temp.txt'\n",
    "print(file_path)"
   ]
  },
  {
   "cell_type": "code",
   "execution_count": 28,
   "metadata": {},
   "outputs": [
    {
     "name": "stdout",
     "output_type": "stream",
     "text": [
      "c:\\templates\\folder99\\blames\\rules\\temp.txt\n"
     ]
    }
   ],
   "source": [
    "file_path = r'c:\\templates\\folder99\\blames\\rules\\temp.txt'  # raw string\n",
    "print(file_path)"
   ]
  },
  {
   "cell_type": "code",
   "execution_count": 64,
   "metadata": {},
   "outputs": [
    {
     "name": "stdout",
     "output_type": "stream",
     "text": [
      "\n",
      "this\n",
      "    is\n",
      "       Fri Apr  6 15:09:03 2018\n",
      "    sample\n",
      "   in\n",
      "pyhton\n",
      "\n"
     ]
    }
   ],
   "source": [
    "#  c. doc string \n",
    "# multiline formatted content\n",
    "from time import ctime \n",
    "s = \"\"\"\n",
    "this\n",
    "    is\n",
    "       {}\n",
    "    sample\n",
    "   in\n",
    "pyhton\n",
    "\"\"\"\n",
    "\n",
    "print(s.format(ctime()))\n"
   ]
  },
  {
   "cell_type": "code",
   "execution_count": 34,
   "metadata": {},
   "outputs": [
    {
     "name": "stdout",
     "output_type": "stream",
     "text": [
      "t\n"
     ]
    }
   ],
   "source": [
    "s = 'python'   # immutable object \n",
    "# s[2] = 'T'\n",
    "print(s[2])"
   ]
  },
  {
   "cell_type": "code",
   "execution_count": 37,
   "metadata": {},
   "outputs": [
    {
     "name": "stdout",
     "output_type": "stream",
     "text": [
      "p\n",
      "e\n",
      "r\n",
      "l\n"
     ]
    }
   ],
   "source": [
    "# indexing \n",
    "\n",
    "s = 'perl'\n",
    "print(s[0])\n",
    "print(s[1])\n",
    "print(s[2])\n",
    "print(s[3])\n",
    "# print(s[4])"
   ]
  },
  {
   "cell_type": "code",
   "execution_count": 40,
   "metadata": {},
   "outputs": [
    {
     "name": "stdout",
     "output_type": "stream",
     "text": [
      "l\n",
      "r\n",
      "e\n",
      "p\n"
     ]
    }
   ],
   "source": [
    "s = 'perl'\n",
    "print(s[-1])\n",
    "print(s[-2])\n",
    "print(s[-3])\n",
    "print(s[-4])"
   ]
  },
  {
   "cell_type": "code",
   "execution_count": 48,
   "metadata": {},
   "outputs": [
    {
     "name": "stdout",
     "output_type": "stream",
     "text": [
      "perl\n",
      "land\n",
      "python\n",
      "perlandpython\n",
      "erlandpytho\n",
      "py\n"
     ]
    }
   ],
   "source": [
    "s = 'perlandpython'\n",
    "print(s[:4])\n",
    "print(s[3:7])\n",
    "print(s[-6:])\n",
    "print(s[:])\n",
    "print(s[1:-1])\n",
    "print(s[-6:-4])"
   ]
  },
  {
   "cell_type": "code",
   "execution_count": null,
   "metadata": {
    "collapsed": true
   },
   "outputs": [],
   "source": [
    "# iterate "
   ]
  },
  {
   "cell_type": "code",
   "execution_count": 53,
   "metadata": {},
   "outputs": [
    {
     "name": "stdout",
     "output_type": "stream",
     "text": [
      "True\n",
      "True\n",
      "True\n",
      "<class 'bool'>\n"
     ]
    }
   ],
   "source": [
    "# membership test operator (in, not in)\n",
    "\n",
    "s = 'this is a sample string in python'\n",
    "\n",
    "print('sam' in s)\n",
    "print('s a' in s)\n",
    "print('zee' not in s)\n",
    "print(type('zee' not in s))"
   ]
  },
  {
   "cell_type": "code",
   "execution_count": 59,
   "metadata": {},
   "outputs": [
    {
     "name": "stdout",
     "output_type": "stream",
     "text": [
      "ti sasml tigi yhn\n",
      "hsi  apesrn npto\n"
     ]
    }
   ],
   "source": [
    "s = 'this is a sample string in python'\n",
    "print(s[::2])\n",
    "print(s[1::2])"
   ]
  },
  {
   "cell_type": "code",
   "execution_count": 57,
   "metadata": {
    "collapsed": true
   },
   "outputs": [],
   "source": [
    "# name[start-index:end-index:freq]"
   ]
  },
  {
   "cell_type": "code",
   "execution_count": 60,
   "metadata": {},
   "outputs": [
    {
     "data": {
      "text/plain": [
       "'nohtyp ni gnirts elpmas a si siht'"
      ]
     },
     "execution_count": 60,
     "metadata": {},
     "output_type": "execute_result"
    }
   ],
   "source": [
    "s = 'this is a sample string in python'\n",
    "s[::-1]"
   ]
  },
  {
   "cell_type": "code",
   "execution_count": null,
   "metadata": {
    "collapsed": true
   },
   "outputs": [],
   "source": []
  },
  {
   "cell_type": "code",
   "execution_count": 62,
   "metadata": {},
   "outputs": [
    {
     "data": {
      "text/plain": [
       "[3, 2, 1]"
      ]
     },
     "execution_count": 62,
     "metadata": {},
     "output_type": "execute_result"
    }
   ],
   "source": [
    "items = [1, 2, 3]\n",
    "items[::-1]"
   ]
  },
  {
   "cell_type": "code",
   "execution_count": 65,
   "metadata": {},
   "outputs": [
    {
     "data": {
      "text/plain": [
       "2.9"
      ]
     },
     "execution_count": 65,
     "metadata": {},
     "output_type": "execute_result"
    }
   ],
   "source": [
    "5.8 / 2"
   ]
  },
  {
   "cell_type": "code",
   "execution_count": 66,
   "metadata": {},
   "outputs": [
    {
     "data": {
      "text/plain": [
       "2.0"
      ]
     },
     "execution_count": 66,
     "metadata": {},
     "output_type": "execute_result"
    }
   ],
   "source": [
    "5.8 // 2  # floor division "
   ]
  },
  {
   "cell_type": "code",
   "execution_count": 67,
   "metadata": {},
   "outputs": [
    {
     "data": {
      "text/plain": [
       "True"
      ]
     },
     "execution_count": 67,
     "metadata": {},
     "output_type": "execute_result"
    }
   ],
   "source": [
    "n = 5.8\n",
    "n >= 3 and n <= 7"
   ]
  },
  {
   "cell_type": "code",
   "execution_count": 69,
   "metadata": {},
   "outputs": [
    {
     "data": {
      "text/plain": [
       "False"
      ]
     },
     "execution_count": 69,
     "metadata": {},
     "output_type": "execute_result"
    }
   ],
   "source": [
    "n = 5.8\n",
    "not 3 <= n <= 7"
   ]
  },
  {
   "cell_type": "code",
   "execution_count": 70,
   "metadata": {},
   "outputs": [
    {
     "data": {
      "text/plain": [
       "2"
      ]
     },
     "execution_count": 70,
     "metadata": {},
     "output_type": "execute_result"
    }
   ],
   "source": [
    "4 >> 1 \n",
    "# 100 >> 1 = 10"
   ]
  },
  {
   "cell_type": "code",
   "execution_count": 71,
   "metadata": {},
   "outputs": [
    {
     "data": {
      "text/plain": [
       "0"
      ]
     },
     "execution_count": 71,
     "metadata": {},
     "output_type": "execute_result"
    }
   ],
   "source": [
    "5 & 2 \n",
    "\n",
    "# 101\n",
    "# 010\n",
    "# 000"
   ]
  },
  {
   "cell_type": "code",
   "execution_count": 73,
   "metadata": {},
   "outputs": [
    {
     "data": {
      "text/plain": [
       "True"
      ]
     },
     "execution_count": 73,
     "metadata": {},
     "output_type": "execute_result"
    }
   ],
   "source": [
    "items = [11, 22, 'pam', 'eva', 1.2, .98]\n",
    "items.extend()"
   ]
  },
  {
   "cell_type": "code",
   "execution_count": 75,
   "metadata": {},
   "outputs": [
    {
     "name": "stdout",
     "output_type": "stream",
     "text": [
      "196\n"
     ]
    }
   ],
   "source": [
    "# if else conditional operator \n",
    "# syntax :-\n",
    "\n",
    "# true-part-expr if test-condition else false-part-expr\n",
    "\n",
    "n = 14\n",
    "\n",
    "result = n ** 2 if n > 5 else n ** 3\n",
    "print(result)\n"
   ]
  },
  {
   "cell_type": "code",
   "execution_count": 79,
   "metadata": {},
   "outputs": [
    {
     "data": {
      "text/plain": [
       "[22, 44, 2.4, 1.96]"
      ]
     },
     "execution_count": 79,
     "metadata": {},
     "output_type": "execute_result"
    }
   ],
   "source": [
    "items1 = [11, 22, 1.2, .98]\n",
    "items2 = [11, 22, 1.2, .98]\n",
    "\n",
    "[sum(item) for item in zip(items1, items2)]"
   ]
  },
  {
   "cell_type": "code",
   "execution_count": 81,
   "metadata": {},
   "outputs": [
    {
     "data": {
      "text/plain": [
       "480"
      ]
     },
     "execution_count": 81,
     "metadata": {},
     "output_type": "execute_result"
    }
   ],
   "source": [
    "from random import randint\n",
    "randint(1, 1000)"
   ]
  },
  {
   "cell_type": "code",
   "execution_count": 82,
   "metadata": {},
   "outputs": [
    {
     "data": {
      "text/plain": [
       "True"
      ]
     },
     "execution_count": 82,
     "metadata": {},
     "output_type": "execute_result"
    }
   ],
   "source": [
    "bool('peter')"
   ]
  },
  {
   "cell_type": "code",
   "execution_count": 83,
   "metadata": {},
   "outputs": [
    {
     "data": {
      "text/plain": [
       "False"
      ]
     },
     "execution_count": 83,
     "metadata": {},
     "output_type": "execute_result"
    }
   ],
   "source": [
    "bool('')"
   ]
  },
  {
   "cell_type": "code",
   "execution_count": 84,
   "metadata": {},
   "outputs": [
    {
     "data": {
      "text/plain": [
       "True"
      ]
     },
     "execution_count": 84,
     "metadata": {},
     "output_type": "execute_result"
    }
   ],
   "source": [
    "bool(-12.21)"
   ]
  },
  {
   "cell_type": "code",
   "execution_count": 89,
   "metadata": {},
   "outputs": [
    {
     "name": "stdout",
     "output_type": "stream",
     "text": [
      "False\n",
      "False\n",
      "False\n",
      "False\n",
      "False\n",
      "False\n",
      "False\n",
      "False\n",
      "False\n",
      "<class 'NoneType'>\n"
     ]
    }
   ],
   "source": [
    "print(bool(''))\n",
    "print(bool(0))\n",
    "print(bool(0.0))\n",
    "print(bool(0+0j))\n",
    "print(bool([]))  # list\n",
    "print(bool(()))  # tuple\n",
    "print(bool({}))  # dict\n",
    "print(bool(set()))  # set\n",
    "\n",
    "print(bool(None))  #NULL or void \n",
    "print(type(None))"
   ]
  },
  {
   "cell_type": "code",
   "execution_count": 90,
   "metadata": {},
   "outputs": [
    {
     "name": "stdout",
     "output_type": "stream",
     "text": [
      "[]\n",
      "<class 'list'>\n",
      "0\n"
     ]
    }
   ],
   "source": [
    "# list  (an array) aka ordered collections \n",
    "\n",
    "items = []\n",
    "print(items)\n",
    "print(type(items))\n",
    "print(len(items))"
   ]
  },
  {
   "cell_type": "code",
   "execution_count": 95,
   "metadata": {},
   "outputs": [
    {
     "name": "stdout",
     "output_type": "stream",
     "text": [
      "[2.2, 'eva', 'hp', 3.4, 0.98, 'nic', 'pam', 'kim']\n",
      "\n",
      "[2.2, 'eva', 'hp', 3.4, 1.96, 'nic', 'pam', 'kim']\n",
      "\n",
      "[2.2, 'eva', 'hp', 3.4, 1.96, 'nic', 'pam', 'kim', 'epsilon']\n",
      "\n",
      "['bangalore', 2.2, 'eva', 'hp', 3.4, 1.96, 'nic', 'pam', 'kim', 'epsilon']\n",
      "\n"
     ]
    }
   ],
   "source": [
    "items = [2.2, 'eva', 'hp', 3.4, .98, 'nic', 'pam', 'kim']\n",
    "print(items)\n",
    "print()\n",
    "\n",
    "items[-4] *= 2  # update\n",
    "print(items)\n",
    "print()\n",
    "\n",
    "items.append('epsilon')  # append\n",
    "print(items)\n",
    "print()\n",
    "\n",
    "items.insert(0, 'bangalore')  # prepend\n",
    "print(items)\n",
    "print()\n"
   ]
  },
  {
   "cell_type": "code",
   "execution_count": 96,
   "metadata": {},
   "outputs": [
    {
     "name": "stdout",
     "output_type": "stream",
     "text": [
      "kim\n",
      "[2.2, 'eva', 'hp', 3.4, 0.98, 'nic', 'pam']\n"
     ]
    }
   ],
   "source": [
    "# delete by index\n",
    "items = [2.2, 'eva', 'hp', 3.4, .98, 'nic', 'pam', 'kim']\n",
    "\n",
    "value = items.pop()\n",
    "print(value)\n",
    "print(items)"
   ]
  },
  {
   "cell_type": "code",
   "execution_count": 97,
   "metadata": {},
   "outputs": [
    {
     "name": "stdout",
     "output_type": "stream",
     "text": [
      "nic\n",
      "[2.2, 'eva', 'hp', 3.4, 0.98, 'pam', 'kim']\n"
     ]
    }
   ],
   "source": [
    "# delete by index\n",
    "items = [2.2, 'eva', 'hp', 3.4, .98, 'nic', 'pam', 'kim']\n",
    "\n",
    "value = items.pop(-3)\n",
    "print(value)\n",
    "print(items)"
   ]
  },
  {
   "cell_type": "code",
   "execution_count": 104,
   "metadata": {},
   "outputs": [
    {
     "name": "stdout",
     "output_type": "stream",
     "text": [
      "5\n",
      "[2.2, 3.4, 0.98]\n"
     ]
    }
   ],
   "source": [
    "# delete by value\n",
    "items = [2.2, 'pam', 'pam', 3.4, .98, 'pam', 'pam', 'pam']\n",
    "item = 'pam'\n",
    "\n",
    "print(items.count(item))\n",
    "\n",
    "while item in items:\n",
    "    items.remove(item)\n",
    "\n",
    "print(items)"
   ]
  },
  {
   "cell_type": "code",
   "execution_count": 101,
   "metadata": {
    "collapsed": true
   },
   "outputs": [],
   "source": [
    "# list.remove?"
   ]
  },
  {
   "cell_type": "code",
   "execution_count": 105,
   "metadata": {},
   "outputs": [
    {
     "name": "stdout",
     "output_type": "stream",
     "text": [
      "[2.2, 3.4, 0.98, 2.2, 3.4, 0.98]\n",
      "\n",
      "[2.2, 3.4, 0.98, 2.2, 3.4, 0.98, 2.2, 3.4, 0.98]\n"
     ]
    }
   ],
   "source": [
    "items = [2.2, 3.4, 0.98]\n",
    "\n",
    "print(items + items)\n",
    "print()\n",
    "print(items * 3)"
   ]
  },
  {
   "cell_type": "code",
   "execution_count": 107,
   "metadata": {},
   "outputs": [
    {
     "name": "stdout",
     "output_type": "stream",
     "text": [
      "[2.2, 3.4, 0.98]\n"
     ]
    }
   ],
   "source": [
    "duplicates = [2.2, 3.4, 0.98, 2.2, 3.4, 0.98, 2.2, 3.4, 0.98]\n",
    "uniq = list()\n",
    "\n",
    "for item in duplicates:\n",
    "    if item not in uniq:\n",
    "        uniq.append(item)\n",
    "        \n",
    "print(uniq)"
   ]
  },
  {
   "cell_type": "code",
   "execution_count": 109,
   "metadata": {},
   "outputs": [
    {
     "name": "stdout",
     "output_type": "stream",
     "text": [
      "{0.98, 2.2, 3.4}\n",
      "[0.98, 2.2, 3.4]\n"
     ]
    }
   ],
   "source": [
    "duplicates = [2.2, 3.4, 0.98, 2.2, 3.4, 0.98, 2.2, 3.4, 0.98]\n",
    "print(set(duplicates))\n",
    "uniq2 = list(set(duplicates))\n",
    "print(uniq2)"
   ]
  },
  {
   "cell_type": "code",
   "execution_count": 111,
   "metadata": {},
   "outputs": [
    {
     "name": "stdout",
     "output_type": "stream",
     "text": [
      "None\n",
      "[0.98, 3.4, 2.2, 0.98, 3.4, 2.2, 0.98, 3.4, 2.2]\n"
     ]
    }
   ],
   "source": [
    "duplicates = [2.2, 3.4, 0.98, 2.2, 3.4, 0.98, 2.2, 3.4, 0.98]\n",
    "duplicates.reverse()  # inplace edit\n",
    "\n",
    "print(duplicates)"
   ]
  },
  {
   "cell_type": "code",
   "execution_count": 112,
   "metadata": {},
   "outputs": [
    {
     "name": "stdout",
     "output_type": "stream",
     "text": [
      "[0.98, 0.98, 0.98, 2.2, 2.2, 2.2, 3.4, 3.4, 3.4]\n"
     ]
    }
   ],
   "source": [
    "duplicates = [2.2, 3.4, 0.98, 2.2, 3.4, 0.98, 2.2, 3.4, 0.98]\n",
    "duplicates.sort()  # inplace edit\n",
    "\n",
    "print(duplicates)"
   ]
  },
  {
   "cell_type": "code",
   "execution_count": 113,
   "metadata": {},
   "outputs": [
    {
     "name": "stdout",
     "output_type": "stream",
     "text": [
      "[3.4, 3.4, 3.4, 2.2, 2.2, 2.2, 0.98, 0.98, 0.98]\n"
     ]
    }
   ],
   "source": [
    "duplicates = [2.2, 3.4, 0.98, 2.2, 3.4, 0.98, 2.2, 3.4, 0.98]\n",
    "duplicates.sort(reverse=True)  # inplace edit, keyword arguments (kwargs)\n",
    "\n",
    "print(duplicates)"
   ]
  },
  {
   "cell_type": "code",
   "execution_count": 9,
   "metadata": {},
   "outputs": [
    {
     "name": "stdout",
     "output_type": "stream",
     "text": [
      "['root', 'x', '0', '0', 'root', 'root', '/bin/bash']\n",
      "\n",
      "root\n",
      "\n",
      "['x', '0', '0', 'root', 'root', '/bin/bash']\n"
     ]
    }
   ],
   "source": [
    "# string token\n",
    "\n",
    "s = r'root:x:0:0:root:root:/bin/bash'\n",
    "delimiter = ':'\n",
    "items = s.split(delimiter)\n",
    "print(items)\n",
    "print()\n",
    "print(s.split(delimiter)[0])\n",
    "print()\n",
    "print(s.split(delimiter)[1:])\n",
    "\n"
   ]
  },
  {
   "cell_type": "code",
   "execution_count": 118,
   "metadata": {},
   "outputs": [
    {
     "name": "stdout",
     "output_type": "stream",
     "text": [
      "root;x;0;0;root;/root;/bin/bash\n"
     ]
    }
   ],
   "source": [
    "items = ['root', 'x', '0', '0', 'root', '/root', '/bin/bash']\n",
    "delimiter = ';'\n",
    "\n",
    "s2 = delimiter.join(items)\n",
    "print(s2)"
   ]
  },
  {
   "cell_type": "code",
   "execution_count": 120,
   "metadata": {},
   "outputs": [
    {
     "name": "stdout",
     "output_type": "stream",
     "text": [
      "root\n",
      "x\n",
      "0\n",
      "0\n",
      "root\n",
      "/root\n",
      "/bin/bash\n"
     ]
    }
   ],
   "source": [
    "items = ['root', 'x', '0', '0', 'root', '/root', '/bin/bash']\n",
    "\n",
    "# iteration\n",
    "for item in items:\n",
    "    print(item)"
   ]
  },
  {
   "cell_type": "code",
   "execution_count": 128,
   "metadata": {},
   "outputs": [
    {
     "name": "stdout",
     "output_type": "stream",
     "text": [
      "\n",
      "this\n",
      "a\n",
      "sample\n"
     ]
    }
   ],
   "source": [
    "s = 'this is a sample string in python'\n",
    "\n",
    "list_of_words = s.split()\n",
    "print()\n",
    "\n",
    "for index in [0, 2, 3]:\n",
    "    print(list_of_words[index])\n",
    "    \n",
    "#for word in s.split()[::3]:\n",
    "#    print(word)"
   ]
  },
  {
   "cell_type": "code",
   "execution_count": 140,
   "metadata": {},
   "outputs": [
    {
     "name": "stdout",
     "output_type": "stream",
     "text": [
      "1\t2\t3\t\n",
      "4\tx\t6\t\n",
      "7\t8\t9\t10\t\n",
      "a\te\ti\t\n"
     ]
    }
   ],
   "source": [
    "mat = [[1, 2, 3], \n",
    "       [4, 5, 6] , \n",
    "       [7, 8, 9]]\n",
    "\n",
    "mat[1][1] = 'x'\n",
    "mat[2].append(10)\n",
    "mat.append(['a', 'e', 'i'])\n",
    "\n",
    "for row in mat:\n",
    "    for col in row:\n",
    "        print(col, end='\\t')\n",
    "    print()\n"
   ]
  },
  {
   "cell_type": "code",
   "execution_count": null,
   "metadata": {
    "collapsed": true
   },
   "outputs": [],
   "source": [
    "\"\"\"\n",
    "1 2 3\n",
    "4 x 6 \n",
    "7 8 9 10\n",
    "a e i\n",
    "\"\"\""
   ]
  },
  {
   "cell_type": "code",
   "execution_count": 137,
   "metadata": {},
   "outputs": [
    {
     "name": "stdout",
     "output_type": "stream",
     "text": [
      "123\teva\ttim\n",
      "tom\n"
     ]
    }
   ],
   "source": [
    "print(123, end='\\t')  # output record sep \\n\n",
    "print('eva', end='\\t')\n",
    "print('tim')\n",
    "print('tom')"
   ]
  },
  {
   "cell_type": "code",
   "execution_count": 1,
   "metadata": {
    "collapsed": true
   },
   "outputs": [],
   "source": [
    "print?"
   ]
  },
  {
   "cell_type": "code",
   "execution_count": 3,
   "metadata": {},
   "outputs": [
    {
     "name": "stdout",
     "output_type": "stream",
     "text": [
      "1 2 iii 4 5\n",
      "1;2;iii;4;5\n"
     ]
    }
   ],
   "source": [
    "print(1,2,'iii',4,5)   # OFS \n",
    "print(1,2,'iii',4,5, sep=';')   # OFS "
   ]
  },
  {
   "cell_type": "code",
   "execution_count": 5,
   "metadata": {},
   "outputs": [
    {
     "data": {
      "text/plain": [
       "['root:x:0:0:root:/root:/bin/bash\\n',\n",
       " 'bin:x:1:1:bin:/bin:/sbin/nologin\\n',\n",
       " 'daemon:x:2:2:daemon:/sbin:/sbin/nologin\\n',\n",
       " 'adm:x:3:4:adm:/var/adm:/sbin/nologin\\n',\n",
       " 'lp:x:4:7:lp:/var/spool/lpd:/sbin/nologin\\n',\n",
       " 'sync:x:5:0:sync:/sbin:/bin/sync\\n',\n",
       " 'shutdown:x:6:0:shutdown:/sbin:/sbin/shutdown\\n',\n",
       " 'halt:x:7:0:halt:/sbin:/sbin/halt\\n',\n",
       " 'mail:x:8:12:mail:/var/spool/mail:/sbin/nologin\\n',\n",
       " 'operator:x:11:0:operator:/root:/sbin/nologin\\n']"
      ]
     },
     "execution_count": 5,
     "metadata": {},
     "output_type": "execute_result"
    }
   ],
   "source": [
    "open('/etc/passwd').readlines()[:10]"
   ]
  },
  {
   "cell_type": "code",
   "execution_count": 6,
   "metadata": {},
   "outputs": [
    {
     "data": {
      "text/plain": [
       "['training:x:1001:1001::/home/training:/bin/bash\\n',\n",
       " 'gluster:x:986:977:GlusterFS daemons:/run/gluster:/sbin/nologin\\n',\n",
       " 'pipewire:x:985:976:PipeWire System Daemon:/var/run/pipewire:/sbin/nologin\\n',\n",
       " 'janaki:x:1002:1002::/home/janaki:/bin/bash\\n',\n",
       " 'akmods:x:984:975:User is used by akmods to build akmod packages:/var/cache/akmods/:/sbin/nologin\\n',\n",
       " 'mailnull:x:47:47::/var/spool/mqueue:/sbin/nologin\\n',\n",
       " 'smmsp:x:51:51::/var/spool/mqueue:/sbin/nologin\\n',\n",
       " 'dnsmasq:x:973:973:Dnsmasq DHCP and DNS server:/var/lib/dnsmasq:/sbin/nologin\\n',\n",
       " 'mysql:x:27:27:MySQL Server:/var/lib/mysql:/sbin/nologin\\n',\n",
       " 'unbound:x:972:972:Unbound DNS resolver:/etc/unbound:/sbin/nologin\\n']"
      ]
     },
     "execution_count": 6,
     "metadata": {},
     "output_type": "execute_result"
    }
   ],
   "source": [
    "open('/etc/passwd').readlines()[-10:]"
   ]
  },
  {
   "cell_type": "code",
   "execution_count": 8,
   "metadata": {},
   "outputs": [
    {
     "data": {
      "text/plain": [
       "'root:x:0:0:root:/root:/bin/bash\\n'"
      ]
     },
     "execution_count": 8,
     "metadata": {},
     "output_type": "execute_result"
    }
   ],
   "source": [
    "open('/etc/passwd').read(32)\n"
   ]
  },
  {
   "cell_type": "code",
   "execution_count": 11,
   "metadata": {},
   "outputs": [
    {
     "name": "stdout",
     "output_type": "stream",
     "text": [
      "root\n",
      "x\n",
      "0\n",
      "0\n",
      "root\n",
      "root\n",
      "/bin/bash\n"
     ]
    }
   ],
   "source": [
    "items = ['root', 'x', '0', '0', 'root', 'root', '/bin/bash']\n",
    "\n",
    "for i in items:\n",
    "    print(i)"
   ]
  },
  {
   "cell_type": "code",
   "execution_count": 15,
   "metadata": {},
   "outputs": [
    {
     "name": "stdout",
     "output_type": "stream",
     "text": [
      "1 -> root\n",
      "2 -> x\n",
      "3 -> 0\n",
      "4 -> 0\n",
      "5 -> root\n",
      "6 -> root\n",
      "7 -> /bin/bash\n"
     ]
    }
   ],
   "source": [
    "items = ['root', 'x', '0', '0', 'root', 'root', '/bin/bash']\n",
    "for index, v in enumerate(items, 1):\n",
    "    print(index, '->', v)"
   ]
  },
  {
   "cell_type": "code",
   "execution_count": 14,
   "metadata": {},
   "outputs": [
    {
     "name": "stdout",
     "output_type": "stream",
     "text": [
      "0 -> p\n",
      "1 -> e\n",
      "2 -> t\n",
      "3 -> e\n",
      "4 -> r\n"
     ]
    }
   ],
   "source": [
    "for index, v in enumerate('peter'):\n",
    "    print(index, '->', v)"
   ]
  },
  {
   "cell_type": "code",
   "execution_count": 16,
   "metadata": {},
   "outputs": [
    {
     "data": {
      "text/plain": [
       "['0b10', '0b1', '0b11', '0b100', '0b101', '0b11', '0b110', '0b111']"
      ]
     },
     "execution_count": 16,
     "metadata": {},
     "output_type": "execute_result"
    }
   ],
   "source": [
    "items = [2, 1, 3, 4 ,5 ,3 ,6, 7]\n",
    "temp = []\n",
    "\n",
    "for item in items:\n",
    "    temp.append(bin(item))\n",
    "    \n",
    "temp"
   ]
  },
  {
   "cell_type": "code",
   "execution_count": 17,
   "metadata": {},
   "outputs": [
    {
     "data": {
      "text/plain": [
       "['0b10', '0b1', '0b11', '0b100', '0b101', '0b11', '0b110', '0b111']"
      ]
     },
     "execution_count": 17,
     "metadata": {},
     "output_type": "execute_result"
    }
   ],
   "source": [
    "# list comp.\n",
    "items = [2, 1, 3, 4 ,5 ,3 ,6, 7]\n",
    "temp2 = [bin(i) for i in items]\n",
    "temp2"
   ]
  },
  {
   "cell_type": "code",
   "execution_count": 18,
   "metadata": {},
   "outputs": [
    {
     "name": "stdout",
     "output_type": "stream",
     "text": [
      "[4, 1, 27, 256, 3125, 27, 46656, 823543]\n"
     ]
    }
   ],
   "source": [
    "items = [2, 1, 3, 4 ,5 ,3 ,6, 7]\n",
    "temp3 = [i ** i for i in items]\n",
    "print(temp3)\n"
   ]
  },
  {
   "cell_type": "code",
   "execution_count": 19,
   "metadata": {},
   "outputs": [
    {
     "name": "stdout",
     "output_type": "stream",
     "text": [
      "[2, 1, 3, 4, 5, 3, 6, 7]\n"
     ]
    }
   ],
   "source": [
    "items = [2, 1, 3, 4 ,5 ,3 ,6, 7]\n",
    "temp4 = [i for i in items]\n",
    "print(temp4)"
   ]
  },
  {
   "cell_type": "code",
   "execution_count": 20,
   "metadata": {},
   "outputs": [
    {
     "name": "stdout",
     "output_type": "stream",
     "text": [
      "[1, 3, 5, 3, 7]\n"
     ]
    }
   ],
   "source": [
    "items = [2, 1, 3, 4 ,5 ,3 ,6, 7]\n",
    "temp5 = [i for i in items if i % 2]\n",
    "print(temp5)"
   ]
  },
  {
   "cell_type": "code",
   "execution_count": 21,
   "metadata": {},
   "outputs": [
    {
     "name": "stdout",
     "output_type": "stream",
     "text": [
      "{}\n",
      "0\n",
      "<class 'dict'>\n"
     ]
    }
   ],
   "source": [
    "info = {}\n",
    "print(info)\n",
    "print(len(info))\n",
    "print(type(info))"
   ]
  },
  {
   "cell_type": "code",
   "execution_count": 22,
   "metadata": {},
   "outputs": [
    {
     "name": "stdout",
     "output_type": "stream",
     "text": [
      "{'host': 'ws1', 'domain': 'rootcap.in', 'desc': 'web server', 'app': 'apache httpd', 'version': 2.2}\n"
     ]
    }
   ],
   "source": [
    "info = {\n",
    "    'host': 'ws1',\n",
    "    'domain': 'rootcap.in',\n",
    "    'desc': 'web server',\n",
    "    'app': 'apache httpd',\n",
    "    'version': 2.2 \n",
    "}\n",
    "\n",
    "print(info)"
   ]
  },
  {
   "cell_type": "code",
   "execution_count": 23,
   "metadata": {
    "collapsed": true
   },
   "outputs": [],
   "source": [
    "# add\n",
    "# update\n",
    "# delete\n",
    "# lookup aka read\n",
    "# iterate"
   ]
  },
  {
   "cell_type": "code",
   "execution_count": 33,
   "metadata": {},
   "outputs": [
    {
     "name": "stdout",
     "output_type": "stream",
     "text": [
      "{'host': 'ws1', 'domain': 'rootcap.in', 'desc': 'web server', 'app': 'apache httpd', 'version': 3.6}\n",
      "\n",
      "{'host': 'ws1', 'domain': 'rootcap.in', 'desc': 'web server', 'app': 'apache httpd', 'version': 3.6, 'arch': 'x86_64'}\n",
      "\n",
      "web server\n",
      "{'host': 'ws1', 'domain': 'rootcap.in', 'app': 'apache httpd', 'version': 3.6, 'arch': 'x86_64'}\n",
      "\n"
     ]
    },
    {
     "ename": "NameError",
     "evalue": "name 'info' is not defined",
     "output_type": "error",
     "traceback": [
      "\u001b[0;31m---------------------------------------------------------------------------\u001b[0m",
      "\u001b[0;31mNameError\u001b[0m                                 Traceback (most recent call last)",
      "\u001b[0;32m<ipython-input-33-8c8840e5596a>\u001b[0m in \u001b[0;36m<module>\u001b[0;34m()\u001b[0m\n\u001b[1;32m     25\u001b[0m \u001b[0;32mdel\u001b[0m \u001b[0minfo\u001b[0m\u001b[0;34m[\u001b[0m\u001b[0;34m'host'\u001b[0m\u001b[0;34m]\u001b[0m\u001b[0;34m,\u001b[0m \u001b[0minfo\u001b[0m\u001b[0;34m[\u001b[0m\u001b[0;34m'app'\u001b[0m\u001b[0;34m]\u001b[0m\u001b[0;34m\u001b[0m\u001b[0m\n\u001b[1;32m     26\u001b[0m \u001b[0;32mdel\u001b[0m \u001b[0minfo\u001b[0m\u001b[0;34m\u001b[0m\u001b[0m\n\u001b[0;32m---> 27\u001b[0;31m \u001b[0mprint\u001b[0m\u001b[0;34m(\u001b[0m\u001b[0minfo\u001b[0m\u001b[0;34m)\u001b[0m\u001b[0;34m\u001b[0m\u001b[0m\n\u001b[0m",
      "\u001b[0;31mNameError\u001b[0m: name 'info' is not defined"
     ]
    }
   ],
   "source": [
    "info = {\n",
    "    'host': 'ws1',\n",
    "    'domain': 'rootcap.in',\n",
    "    'desc': 'web server',\n",
    "    'app': 'apache httpd',\n",
    "    'version': 2.2 \n",
    "}\n",
    "\n",
    "item = 'version'\n",
    "\n",
    "if item in info:  # validate for the key\n",
    "    info[item] = 3.6# update \n",
    "    \n",
    "print(info)\n",
    "print()\n",
    "\n",
    "info['arch'] = 'x86_64'#  add an item\n",
    "print(info)\n",
    "print()\n",
    "\n",
    "value = info.pop('desc')# delete\n",
    "print(value)\n",
    "print(info)\n",
    "print()\n",
    "del info['host'], info['app']\n",
    "del info\n",
    "print(info)"
   ]
  },
  {
   "cell_type": "code",
   "execution_count": 34,
   "metadata": {
    "collapsed": true
   },
   "outputs": [],
   "source": [
    "dict.pop?"
   ]
  },
  {
   "cell_type": "code",
   "execution_count": 45,
   "metadata": {},
   "outputs": [
    {
     "name": "stdout",
     "output_type": "stream",
     "text": [
      "ws1\n",
      "rootcap.in\n",
      "\n",
      "apache httpd\n",
      "None\n",
      "\n",
      "apache httpd\n",
      "default-value\n"
     ]
    }
   ],
   "source": [
    "info = {\n",
    "    'host': 'ws1',\n",
    "    'domain': 'rootcap.in',\n",
    "    'desc': 'web server',\n",
    "    'app': 'apache httpd',\n",
    "    'version': 2.2 \n",
    "}\n",
    "\n",
    "# lookup \n",
    "print(info['host'])\n",
    "print(info['domain'])\n",
    "print()\n",
    "print(info.get('app'))\n",
    "print(info.get('apps'))\n",
    "print()\n",
    "print(info.get('app', 'default-value'))\n",
    "print(info.get('apps', 'default-value'))"
   ]
  },
  {
   "cell_type": "code",
   "execution_count": 51,
   "metadata": {},
   "outputs": [
    {
     "name": "stdout",
     "output_type": "stream",
     "text": [
      "['app', 'desc', 'domain', 'host', 'version']\n",
      "\n",
      "host : ws1\n",
      "domain : rootcap.in\n",
      "desc : web server\n",
      "app : apache httpd\n",
      "version : 2.2\n",
      "\n",
      "host -> ws1\n",
      "domain -> rootcap.in\n",
      "desc -> web server\n",
      "app -> apache httpd\n",
      "version -> 2.2\n"
     ]
    }
   ],
   "source": [
    "from pprint import pprint as pp\n",
    "info = {\n",
    "    'host': 'ws1',\n",
    "    'domain': 'rootcap.in',\n",
    "    'desc': 'web server',\n",
    "    'app': 'apache httpd',\n",
    "    'version': 2.2 \n",
    "}\n",
    "\n",
    "# iteration \n",
    "print(sorted(info))\n",
    "print()\n",
    "\n",
    "for item in info:\n",
    "    print(item, ':', info[item])\n",
    "    \n",
    "print()\n",
    "\n",
    "# iterate for its key, value pair\n",
    "\n",
    "for k, v in info.items():\n",
    "    print(k, '->', v)"
   ]
  },
  {
   "cell_type": "code",
   "execution_count": 56,
   "metadata": {},
   "outputs": [
    {
     "name": "stdout",
     "output_type": "stream",
     "text": [
      "/bin/bash\n",
      "/sbin/nologin\n",
      "/sbin/nologin\n",
      "/sbin/nologin\n",
      "/sbin/nologin\n",
      "/bin/sync\n",
      "/sbin/shutdown\n",
      "/sbin/halt\n",
      "/sbin/nologin\n",
      "/sbin/nologin\n",
      "/sbin/nologin\n",
      "/sbin/nologin\n",
      "/sbin/nologin\n",
      "/sbin/nologin\n",
      "/sbin/nologin\n",
      "/sbin/nologin\n",
      "/sbin/nologin\n",
      "/sbin/nologin\n",
      "/sbin/nologin\n",
      "/sbin/nologin\n",
      "/sbin/nologin\n",
      "/sbin/nologin\n",
      "/sbin/nologin\n",
      "/sbin/nologin\n",
      "/sbin/nologin\n",
      "/sbin/nologin\n",
      "/sbin/nologin\n",
      "/sbin/nologin\n",
      "/sbin/nologin\n",
      "/sbin/nologin\n",
      "/sbin/nologin\n",
      "/sbin/nologin\n",
      "/sbin/nologin\n",
      "/sbin/nologin\n",
      "/sbin/nologin\n",
      "/sbin/nologin\n",
      "/sbin/nologin\n",
      "/sbin/nologin\n",
      "/sbin/nologin\n",
      "/sbin/nologin\n",
      "/sbin/nologin\n",
      "/sbin/nologin\n",
      "/bin/bash\n",
      "/sbin/nologin\n",
      "/sbin/nologin\n",
      "/bin/bash\n",
      "/sbin/nologin\n",
      "/sbin/nologin\n",
      "/bin/bash\n",
      "/sbin/nologin\n",
      "/sbin/nologin\n",
      "/sbin/nologin\n",
      "/sbin/nologin\n",
      "/sbin/nologin\n",
      "/sbin/nologin\n"
     ]
    }
   ],
   "source": [
    "from csv import reader \n",
    "\n",
    "for row in reader(open('apr06/passwd.txt'), delimiter=':'):\n",
    "    print(row[-1])"
   ]
  },
  {
   "cell_type": "code",
   "execution_count": 58,
   "metadata": {},
   "outputs": [
    {
     "name": "stdout",
     "output_type": "stream",
     "text": [
      "(1.2, 3.4, 5.6, 'iii', 4.5, 0.98)\n",
      "<class 'tuple'>\n",
      "6\n"
     ]
    }
   ],
   "source": [
    "# tuple aka readonly list (immutable object)\n",
    "\n",
    "items = (1.2, 3.4, 5.6, 'iii', 4.5, .98)\n",
    "print(items)\n",
    "print(type(items))\n",
    "print(len(items))"
   ]
  },
  {
   "cell_type": "code",
   "execution_count": 63,
   "metadata": {},
   "outputs": [
    {
     "name": "stdout",
     "output_type": "stream",
     "text": [
      "iii\n",
      "(1.2, 3.4, 5.6)\n",
      "\n",
      "1.2\n",
      "3.4\n",
      "5.6\n",
      "iii\n",
      "4.5\n",
      "0.98\n"
     ]
    }
   ],
   "source": [
    "items = (1.2, 3.4, 5.6, 'iii', 4.5, .98)\n",
    "#items[-3] = 'III'\n",
    "print(items[-3])\n",
    "print(items[:-3])\n",
    "print()\n",
    "\n",
    "for item in items:\n",
    "    print(item)"
   ]
  },
  {
   "cell_type": "code",
   "execution_count": 64,
   "metadata": {},
   "outputs": [
    {
     "name": "stdout",
     "output_type": "stream",
     "text": [
      "{1, 2, 3, 5, 'iv'}\n",
      "<class 'set'>\n",
      "5\n"
     ]
    }
   ],
   "source": [
    "# set = hashed list = hash + list  (unordered collection)\n",
    "\n",
    "items = {1, 2, 3, 'iv', 5}\n",
    "print(items)\n",
    "print(type(items))\n",
    "print(len(items))"
   ]
  },
  {
   "cell_type": "code",
   "execution_count": 75,
   "metadata": {},
   "outputs": [
    {
     "name": "stdout",
     "output_type": "stream",
     "text": [
      "{1, 2, 3, 5, 'iv', 123.2}\n",
      "\n",
      "1\n",
      "2\n",
      "5\n",
      "iv\n",
      "123.2\n"
     ]
    }
   ],
   "source": [
    "items = {1, 2, 3, 'iv', 5}\n",
    "items.add(123.2)\n",
    "print(items)\n",
    "print()\n",
    "\n",
    "value = items.pop()  # \n",
    "print(value)\n",
    "\n",
    "items.remove(3)\n",
    "\n",
    "for item in items:\n",
    "    print(item)"
   ]
  },
  {
   "cell_type": "code",
   "execution_count": 70,
   "metadata": {
    "collapsed": true
   },
   "outputs": [],
   "source": [
    "# set.pop?"
   ]
  },
  {
   "cell_type": "code",
   "execution_count": 83,
   "metadata": {},
   "outputs": [
    {
     "name": "stdout",
     "output_type": "stream",
     "text": [
      "{1, 3, 5}\n",
      "[1, 3, 5]\n",
      "{1, 3, 5}\n",
      "\n",
      "{1, 2, 3, 4, 5, 7, 9}\n",
      "{1, 2, 3, 4, 5, 7, 9}\n",
      "\n",
      "{2, 4}\n",
      "{9, 7}\n"
     ]
    }
   ],
   "source": [
    "a = [1, 2, 3, 4, 5]\n",
    "b = [1, 3, 5 ,7, 9]\n",
    "\n",
    "x = set(a)\n",
    "y = set(b)\n",
    "\n",
    "print(x.intersection(y))\n",
    "print(list(x.intersection(y)))\n",
    "print(x & y)\n",
    "print()\n",
    "print(x.union(y))\n",
    "print(x | y)\n",
    "print()\n",
    "print(x.difference(y))\n",
    "print(y - x)"
   ]
  },
  {
   "cell_type": "code",
   "execution_count": 88,
   "metadata": {},
   "outputs": [
    {
     "data": {
      "text/plain": [
       "[5, 7, 9]"
      ]
     },
     "execution_count": 88,
     "metadata": {},
     "output_type": "execute_result"
    }
   ],
   "source": [
    "a = [1, 2, 3, 4, 5]\n",
    "b = [1, 3, 5 ,7, 9]\n",
    "a.extend(b)\n",
    "[item for item in list(set(sorted(a, reverse=True))) if item >= 5]"
   ]
  },
  {
   "cell_type": "code",
   "execution_count": 91,
   "metadata": {},
   "outputs": [
    {
     "name": "stdout",
     "output_type": "stream",
     "text": [
      "(1, 1)\n",
      "(2, 3)\n",
      "(3, 5)\n",
      "(4, 7)\n",
      "(5, 9)\n"
     ]
    }
   ],
   "source": [
    "a = [1, 2, 3, 4, 5]\n",
    "b = [1, 3, 5 ,7, 9]\n",
    "\n",
    "for item in zip(a , b):\n",
    "    print(item)"
   ]
  },
  {
   "cell_type": "code",
   "execution_count": 93,
   "metadata": {
    "collapsed": true
   },
   "outputs": [],
   "source": [
    "# import numpy as np\n",
    "# np"
   ]
  },
  {
   "cell_type": "code",
   "execution_count": 95,
   "metadata": {},
   "outputs": [
    {
     "data": {
      "text/plain": [
       "['0x0', '0x1', '0x2', '0x3', '0x4', '0x5', '0x6', '0x7', '0x8', '0x9']"
      ]
     },
     "execution_count": 95,
     "metadata": {},
     "output_type": "execute_result"
    }
   ],
   "source": [
    "[hex(item) for item in range(10)]"
   ]
  },
  {
   "cell_type": "code",
   "execution_count": 96,
   "metadata": {},
   "outputs": [
    {
     "data": {
      "text/plain": [
       "{0: '0x0',\n",
       " 1: '0x1',\n",
       " 2: '0x2',\n",
       " 3: '0x3',\n",
       " 4: '0x4',\n",
       " 5: '0x5',\n",
       " 6: '0x6',\n",
       " 7: '0x7',\n",
       " 8: '0x8',\n",
       " 9: '0x9'}"
      ]
     },
     "execution_count": 96,
     "metadata": {},
     "output_type": "execute_result"
    }
   ],
   "source": [
    "{item: hex(item) for item in range(10)}"
   ]
  },
  {
   "cell_type": "code",
   "execution_count": 97,
   "metadata": {},
   "outputs": [
    {
     "data": {
      "text/plain": [
       "{'0x0', '0x1', '0x2', '0x3', '0x4', '0x5', '0x6', '0x7', '0x8', '0x9'}"
      ]
     },
     "execution_count": 97,
     "metadata": {},
     "output_type": "execute_result"
    }
   ],
   "source": [
    "{hex(item) for item in range(10)}"
   ]
  },
  {
   "cell_type": "code",
   "execution_count": 98,
   "metadata": {},
   "outputs": [
    {
     "data": {
      "text/plain": [
       "'chara'"
      ]
     },
     "execution_count": 98,
     "metadata": {},
     "output_type": "execute_result"
    }
   ],
   "source": [
    "# regex :-\n",
    "# 1. match\n",
    "# 2. sub\n",
    "# 3. split \n",
    "\n",
    "\n",
    "\"\"\"chara\"\"\"\n",
    "#  1. case sen\n",
    "#  2. match only once in line\n",
    "#  3.  substrings \n",
    "\n",
    "\n",
    "# language \n",
    "#  regular-expression.info\n",
    "#  mastering regular expression \n",
    "\n",
    "# github.com/ravijaya \n",
    "\n",
    "# \n"
   ]
  },
  {
   "cell_type": "code",
   "execution_count": 102,
   "metadata": {},
   "outputs": [
    {
     "name": "stdout",
     "output_type": "stream",
     "text": [
      "1000\n"
     ]
    }
   ],
   "source": [
    "n = (1000)\n",
    "print(n)"
   ]
  },
  {
   "cell_type": "code",
   "execution_count": 101,
   "metadata": {},
   "outputs": [
    {
     "name": "stdout",
     "output_type": "stream",
     "text": [
      "(123,)\n"
     ]
    }
   ],
   "source": [
    "n = (123,)\n",
    "print(n)"
   ]
  },
  {
   "cell_type": "code",
   "execution_count": 105,
   "metadata": {},
   "outputs": [
    {
     "name": "stdout",
     "output_type": "stream",
     "text": [
      "176\n",
      "198\n"
     ]
    }
   ],
   "source": [
    "def compute(a, b, c):\n",
    "    print(a + b + c)\n",
    "    \n",
    "items = [44, 55, 77, 66]\n",
    "\n",
    "compute(items[0], items[1], items[2])\n",
    "compute(*items[-3:])"
   ]
  },
  {
   "cell_type": "code",
   "execution_count": 20,
   "metadata": {},
   "outputs": [
    {
     "name": "stdout",
     "output_type": "stream",
     "text": [
      "root,x,0,0,root,/root,/bin/bash\n",
      "\n",
      "r**t,x,0,0,r**t,/r**t,/b*n/b*sh\n",
      "\n",
      "root:x:0:0:root:/ro*t:/b*n/b*sh\n"
     ]
    }
   ],
   "source": [
    "import re\n",
    "s = 'root:x:0:0:root:/root:/bin/bash'\n",
    "pattern = ':'\n",
    "replacement = ','\n",
    "\n",
    "s2 = re.sub(pattern, replacement, s) \n",
    "print(s2)\n",
    "\n",
    "print()\n",
    "\n",
    "s3 = re.sub('[AEIOU]', '*', s2, flags=re.I)\n",
    "print(s3)\n",
    "\n",
    "print()\n",
    "\n",
    "pattern = '[AEIOU]'\n",
    "replacement = '*'\n",
    "counter = 0\n",
    "\n",
    "def replace_last_3_matches(m):\n",
    "    tot_matches = len(re.findall(pattern, s, re.I))\n",
    "    global counter\n",
    "    counter += 1\n",
    "    # print(counter)\n",
    "    return replacement if counter > (tot_matches - 3) else m.group()\n",
    "        \n",
    "\n",
    "s3 = re.sub(pattern, replace_last_3_matches, s, flags=re.I)\n",
    "print(s3)"
   ]
  },
  {
   "cell_type": "code",
   "execution_count": 1,
   "metadata": {},
   "outputs": [
    {
     "name": "stdout",
     "output_type": "stream",
     "text": [
      "Object `re.sub` not found.\n"
     ]
    }
   ],
   "source": [
    "re.sub?"
   ]
  },
  {
   "cell_type": "code",
   "execution_count": 23,
   "metadata": {},
   "outputs": [
    {
     "data": {
      "text/plain": [
       "65"
      ]
     },
     "execution_count": 23,
     "metadata": {},
     "output_type": "execute_result"
    }
   ],
   "source": [
    "ord('A')"
   ]
  },
  {
   "cell_type": "code",
   "execution_count": 27,
   "metadata": {},
   "outputs": [
    {
     "name": "stdout",
     "output_type": "stream",
     "text": [
      "Help on class object in module builtins:\n",
      "\n",
      "class object\n",
      " |  The most base type\n",
      "\n"
     ]
    }
   ],
   "source": [
    "help(object)"
   ]
  },
  {
   "cell_type": "code",
   "execution_count": 36,
   "metadata": {},
   "outputs": [
    {
     "data": {
      "text/plain": [
       "'11 May 18 16:00:59'"
      ]
     },
     "execution_count": 36,
     "metadata": {},
     "output_type": "execute_result"
    }
   ],
   "source": [
    "from datetime import datetime\n",
    "\n",
    "datetime.strftime(datetime.now(), \"%d %B %y %H:%M:%S\")"
   ]
  },
  {
   "cell_type": "code",
   "execution_count": null,
   "metadata": {
    "collapsed": true
   },
   "outputs": [],
   "source": []
  }
 ],
 "metadata": {
  "kernelspec": {
   "display_name": "Python 3",
   "language": "python",
   "name": "python3"
  },
  "language_info": {
   "codemirror_mode": {
    "name": "ipython",
    "version": 3
   },
   "file_extension": ".py",
   "mimetype": "text/x-python",
   "name": "python",
   "nbconvert_exporter": "python",
   "pygments_lexer": "ipython3",
   "version": "3.6.3"
  }
 },
 "nbformat": 4,
 "nbformat_minor": 2
}
